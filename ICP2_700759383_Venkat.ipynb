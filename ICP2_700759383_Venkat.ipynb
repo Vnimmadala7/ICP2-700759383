{
  "nbformat": 4,
  "nbformat_minor": 0,
  "metadata": {
    "colab": {
      "provenance": [],
      "include_colab_link": true
    },
    "kernelspec": {
      "name": "python3",
      "display_name": "Python 3"
    },
    "language_info": {
      "name": "python"
    }
  },
  "cells": [
    {
      "cell_type": "markdown",
      "metadata": {
        "id": "view-in-github",
        "colab_type": "text"
      },
      "source": [
        "<a href=\"https://colab.research.google.com/github/Vnimmadala7/ICP2-700759383/blob/main/ICP2_700759383_Venkat.ipynb\" target=\"_parent\"><img src=\"https://colab.research.google.com/assets/colab-badge.svg\" alt=\"Open In Colab\"/></a>"
      ]
    },
    {
      "cell_type": "code",
      "execution_count": null,
      "metadata": {
        "colab": {
          "base_uri": "https://localhost:8080/"
        },
        "id": "avY6l0XCGfxm",
        "outputId": "580ef4f7-1a66-45c8-f587-d9fb5f8de02c"
      },
      "outputs": [
        {
          "output_type": "stream",
          "name": "stdout",
          "text": [
            "* \n",
            "* * \n",
            "* * * \n",
            "* * * * \n",
            "* * * * * \n",
            "* * * * \n",
            "* * * \n",
            "* * \n",
            "* \n"
          ]
        }
      ],
      "source": [
        "n = 5\n",
        "\n",
        "# Simple Triangle Pattern\n",
        "for i in range(1, n + 1):\n",
        "    print(\"* \" * i)\n",
        "\n",
        "# reverse Triangle Pattern\n",
        "for i in range(n - 1, 0, -1):\n",
        "    print(\"* \" * i)\n"
      ]
    },
    {
      "cell_type": "code",
      "source": [
        "my_list = [10, 20, 30, 40, 50, 60, 70, 80, 90, 100]\n",
        "\n",
        "# Loop through the list and print elements at odd indexes\n",
        "for i in range(1, len(my_list), 2):\n",
        "    print(my_list[i])\n"
      ],
      "metadata": {
        "colab": {
          "base_uri": "https://localhost:8080/"
        },
        "id": "mqWbXVnuHKX5",
        "outputId": "bb5b29e4-27a9-4770-f904-23cc63c90027"
      },
      "execution_count": null,
      "outputs": [
        {
          "output_type": "stream",
          "name": "stdout",
          "text": [
            "20\n",
            "40\n",
            "60\n",
            "80\n",
            "100\n"
          ]
        }
      ]
    },
    {
      "cell_type": "code",
      "source": [
        "x = [23, 'Python', 23.98]\n",
        "types_list = []\n",
        "\n",
        "for item in x:\n",
        "    types_list.append(type(item))\n",
        "\n",
        "print(x)\n",
        "print(types_list)\n"
      ],
      "metadata": {
        "colab": {
          "base_uri": "https://localhost:8080/"
        },
        "id": "Ywojq7w3HauA",
        "outputId": "d505d3b5-d45d-410a-e5d7-9e43b395566b"
      },
      "execution_count": null,
      "outputs": [
        {
          "output_type": "stream",
          "name": "stdout",
          "text": [
            "[23, 'Python', 23.98]\n",
            "[<class 'int'>, <class 'str'>, <class 'float'>]\n"
          ]
        }
      ]
    },
    {
      "cell_type": "code",
      "source": [
        "def unique_list(lst):\n",
        "    # Convert list to set to remove duplicates, then convert back to list\n",
        "    return list(set(lst))\n",
        "\n",
        "# Sample list\n",
        "sample_list = [1, 2, 3, 3, 3, 3, 4, 5]\n",
        "\n",
        "# Call the function and print the result\n",
        "print(\"Sample List:\", sample_list)\n",
        "print(\"Unique List:\", unique_list(sample_list))\n"
      ],
      "metadata": {
        "colab": {
          "base_uri": "https://localhost:8080/"
        },
        "id": "MqvsWY2XHxZv",
        "outputId": "7957795a-88f4-45c0-ddf0-6d7b0d466fbc"
      },
      "execution_count": null,
      "outputs": [
        {
          "output_type": "stream",
          "name": "stdout",
          "text": [
            "Sample List: [1, 2, 3, 3, 3, 3, 4, 5]\n",
            "Unique List: [1, 2, 3, 4, 5]\n"
          ]
        }
      ]
    },
    {
      "cell_type": "code",
      "source": [
        "def count_upper_lower(string):\n",
        "    # Initialize counters\n",
        "    upper_count = 0\n",
        "    lower_count = 0\n",
        "\n",
        "    # Iterate through each character in the string\n",
        "    for char in string:\n",
        "        # Check if the character is uppercase\n",
        "        if char.isupper():\n",
        "            upper_count += 1\n",
        "        # Check if the character is lowercase\n",
        "        elif char.islower():\n",
        "            lower_count += 1\n",
        "\n",
        "    # Return the counts\n",
        "    return upper_count, lower_count\n",
        "\n",
        "# Input string\n",
        "input_string = 'The quick Brow Fox'\n",
        "\n",
        "# Call the function\n",
        "upper_count, lower_count = count_upper_lower(input_string)\n",
        "\n",
        "# Print the results\n",
        "print(\"No. of Upper-case characters:\", upper_count)\n",
        "print(\"No. of Lower-case Characters:\", lower_count)\n"
      ],
      "metadata": {
        "colab": {
          "base_uri": "https://localhost:8080/"
        },
        "id": "kzhvshtyIDxd",
        "outputId": "615bcd3c-087d-4c13-d4d0-9090bc4f1756"
      },
      "execution_count": null,
      "outputs": [
        {
          "output_type": "stream",
          "name": "stdout",
          "text": [
            "No. of Upper-case characters: 3\n",
            "No. of Lower-case Characters: 12\n"
          ]
        }
      ]
    }
  ]
}